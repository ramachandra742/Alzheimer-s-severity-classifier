{
 "cells": [
  {
   "cell_type": "code",
   "execution_count": 1,
   "id": "guilty-manhattan",
   "metadata": {
    "ExecuteTime": {
     "end_time": "2021-06-14T10:43:21.610373Z",
     "start_time": "2021-06-14T10:43:19.807068Z"
    }
   },
   "outputs": [],
   "source": [
    "import fastbook\n",
    "fastbook.setup_book() "
   ]
  },
  {
   "cell_type": "code",
   "execution_count": 2,
   "id": "apart-composer",
   "metadata": {
    "ExecuteTime": {
     "end_time": "2021-06-14T10:43:21.616661Z",
     "start_time": "2021-06-14T10:43:21.612184Z"
    }
   },
   "outputs": [],
   "source": [
    "from fastbook import *\n",
    "from fastai.vision.widgets import *"
   ]
  },
  {
   "cell_type": "code",
   "execution_count": 3,
   "id": "american-wings",
   "metadata": {
    "ExecuteTime": {
     "end_time": "2021-06-14T10:43:21.660445Z",
     "start_time": "2021-06-14T10:43:21.618828Z"
    }
   },
   "outputs": [],
   "source": [
    "# Load export.pkl using load_learner for inference\n",
    "path = Path()\n",
    "learn_inf = load_learner(path/'export.pkl')"
   ]
  },
  {
   "cell_type": "code",
   "execution_count": 4,
   "id": "massive-affect",
   "metadata": {
    "ExecuteTime": {
     "end_time": "2021-06-14T10:43:21.669144Z",
     "start_time": "2021-06-14T10:43:21.662306Z"
    }
   },
   "outputs": [
    {
     "data": {
      "text/plain": [
       "['MildDemented', 'ModerateDemented', 'NonDemented', 'VeryMildDemented']"
      ]
     },
     "execution_count": 4,
     "metadata": {},
     "output_type": "execute_result"
    }
   ],
   "source": [
    "#At inference time, we can access the DataLoaders as an attribute of the learner.\n",
    "#learn_inf.dls.vocab"
   ]
  },
  {
   "cell_type": "code",
   "execution_count": 5,
   "id": "grateful-mercy",
   "metadata": {
    "ExecuteTime": {
     "end_time": "2021-06-14T10:43:21.684053Z",
     "start_time": "2021-06-14T10:43:21.671811Z"
    }
   },
   "outputs": [],
   "source": [
    "#Let's create a widget to upload image.\n",
    "img_upload = widgets.FileUpload()"
   ]
  },
  {
   "cell_type": "code",
   "execution_count": 6,
   "id": "understanding-future",
   "metadata": {
    "ExecuteTime": {
     "end_time": "2021-06-14T10:43:21.697127Z",
     "start_time": "2021-06-14T10:43:21.685374Z"
    }
   },
   "outputs": [],
   "source": [
    "#Let's create a widget to display output.\n",
    "out_dl = widgets.Output()"
   ]
  },
  {
   "cell_type": "code",
   "execution_count": 7,
   "id": "extreme-converter",
   "metadata": {
    "ExecuteTime": {
     "end_time": "2021-06-14T10:43:21.715726Z",
     "start_time": "2021-06-14T10:43:21.698694Z"
    }
   },
   "outputs": [],
   "source": [
    "#Let's create a widget to display predictions\n",
    "lbl_pred = widgets.Label()"
   ]
  },
  {
   "cell_type": "code",
   "execution_count": 8,
   "id": "friendly-audience",
   "metadata": {
    "ExecuteTime": {
     "end_time": "2021-06-14T10:43:21.726403Z",
     "start_time": "2021-06-14T10:43:21.718470Z"
    }
   },
   "outputs": [],
   "source": [
    "#Pass all these widgets into a single function & get predictions from the model for uploaded image.\n",
    "def on_data_change(change):\n",
    "    lbl_pred.value = ''\n",
    "    # Read the uploaded image\n",
    "    img = PILImage.create(img_upload.data[-1])\n",
    "    out_dl.clear_output()\n",
    "    with out_dl : display(img.to_thumb(128,128))\n",
    "    # Get predictions\n",
    "    preds, pred_idx, probs = learn_inf.predict(img)\n",
    "    lbl_pred.value = f'Predictiom : {preds};  Probability : {probs[pred_idx]:.04f}'"
   ]
  },
  {
   "cell_type": "code",
   "execution_count": 9,
   "id": "native-copyright",
   "metadata": {
    "ExecuteTime": {
     "end_time": "2021-06-14T10:43:21.735960Z",
     "start_time": "2021-06-14T10:43:21.729667Z"
    }
   },
   "outputs": [],
   "source": [
    "# Observe the changes in the data\n",
    "img_upload.observe(on_data_change, names = 'data')"
   ]
  },
  {
   "cell_type": "code",
   "execution_count": 10,
   "id": "vocal-arcade",
   "metadata": {
    "ExecuteTime": {
     "end_time": "2021-06-14T10:43:21.755754Z",
     "start_time": "2021-06-14T10:43:21.737389Z"
    }
   },
   "outputs": [
    {
     "data": {
      "application/vnd.jupyter.widget-view+json": {
       "model_id": "96cc3996428445c2b2cb4e6c0d69c556",
       "version_major": 2,
       "version_minor": 0
      },
      "text/plain": [
       "VBox(children=(Label(value='Upload MRI image'), FileUpload(value={}, description='Upload'), Output(), Label(va…"
      ]
     },
     "metadata": {},
     "output_type": "display_data"
    }
   ],
   "source": [
    "#We can now put them all in a vertical box (VBox) to complete our GUI:\n",
    "display(VBox([widgets.Label('Upload MRI image'),\n",
    "     img_upload, out_dl, lbl_pred]))"
   ]
  }
 ],
 "metadata": {
  "kernelspec": {
   "display_name": "Python 3",
   "language": "python",
   "name": "python3"
  },
  "language_info": {
   "codemirror_mode": {
    "name": "ipython",
    "version": 3
   },
   "file_extension": ".py",
   "mimetype": "text/x-python",
   "name": "python",
   "nbconvert_exporter": "python",
   "pygments_lexer": "ipython3",
   "version": "3.8.2"
  }
 },
 "nbformat": 4,
 "nbformat_minor": 5
}
